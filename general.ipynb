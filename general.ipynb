{
 "cells": [
  {
   "cell_type": "markdown",
   "id": "46fb71f1",
   "metadata": {},
   "source": [
    "<h2>Propriétés des listes</h2>"
   ]
  },
  {
   "cell_type": "markdown",
   "id": "8d990906",
   "metadata": {},
   "source": [
    "<h3>list[start:end]</h3> (end-1)"
   ]
  },
  {
   "cell_type": "code",
   "execution_count": 54,
   "id": "7ce7ed7a",
   "metadata": {
    "scrolled": false
   },
   "outputs": [
    {
     "data": {
      "text/plain": [
       "'llo'"
      ]
     },
     "execution_count": 54,
     "metadata": {},
     "output_type": "execute_result"
    }
   ],
   "source": [
    "\"hello  madafakazzzzz\"[2:5]"
   ]
  },
  {
   "cell_type": "markdown",
   "id": "bcdde517",
   "metadata": {},
   "source": [
    "<h3>list[start:end:step]</h3> (end-1)"
   ]
  },
  {
   "cell_type": "code",
   "execution_count": 58,
   "id": "1c9e0c53",
   "metadata": {
    "scrolled": false
   },
   "outputs": [
    {
     "data": {
      "text/plain": [
       "'haz'"
      ]
     },
     "execution_count": 58,
     "metadata": {},
     "output_type": "execute_result"
    }
   ],
   "source": [
    "\"hello  madafakazzzzz\"[::8]"
   ]
  },
  {
   "cell_type": "markdown",
   "id": "8219feb5",
   "metadata": {},
   "source": [
    "<h3>str.lower()</h3>"
   ]
  },
  {
   "cell_type": "code",
   "execution_count": 29,
   "id": "308ac070",
   "metadata": {
    "scrolled": false
   },
   "outputs": [
    {
     "data": {
      "text/plain": [
       "'hello  madafaka'"
      ]
     },
     "execution_count": 29,
     "metadata": {},
     "output_type": "execute_result"
    }
   ],
   "source": [
    "\"heLLo  maDafAka\".lower()"
   ]
  },
  {
   "cell_type": "markdown",
   "id": "ca39fc57",
   "metadata": {},
   "source": [
    "<h3>str.upper()</h3>"
   ]
  },
  {
   "cell_type": "code",
   "execution_count": 30,
   "id": "d9d50af3",
   "metadata": {
    "scrolled": true
   },
   "outputs": [
    {
     "data": {
      "text/plain": [
       "'HELLO  MADAFAKA'"
      ]
     },
     "execution_count": 30,
     "metadata": {},
     "output_type": "execute_result"
    }
   ],
   "source": [
    "\"heLLo  maDafAka\".upper()"
   ]
  },
  {
   "cell_type": "markdown",
   "id": "dd557ad7",
   "metadata": {},
   "source": [
    "<h3>str.capitalize()</h3>"
   ]
  },
  {
   "cell_type": "code",
   "execution_count": 32,
   "id": "d0903873",
   "metadata": {
    "scrolled": true
   },
   "outputs": [
    {
     "data": {
      "text/plain": [
       "'Hello madafaka'"
      ]
     },
     "execution_count": 32,
     "metadata": {},
     "output_type": "execute_result"
    }
   ],
   "source": [
    "\"hello madafaka\".capitalize()"
   ]
  },
  {
   "cell_type": "markdown",
   "id": "087aae64",
   "metadata": {},
   "source": [
    "<h3>list.count(element)</h3>"
   ]
  },
  {
   "cell_type": "code",
   "execution_count": 15,
   "id": "901f50b1",
   "metadata": {
    "scrolled": false
   },
   "outputs": [
    {
     "data": {
      "text/plain": [
       "4"
      ]
     },
     "execution_count": 15,
     "metadata": {},
     "output_type": "execute_result"
    }
   ],
   "source": [
    "\"hello  madafaka\".count(\"a\")"
   ]
  },
  {
   "cell_type": "code",
   "execution_count": 13,
   "id": "19260a23",
   "metadata": {
    "scrolled": false
   },
   "outputs": [
    {
     "data": {
      "text/plain": [
       "2"
      ]
     },
     "execution_count": 13,
     "metadata": {},
     "output_type": "execute_result"
    }
   ],
   "source": [
    "[\"iheb\",\"achref\",\"anouar\",\"ines\",\"abd el wadoud\",\"achref\"].count(\"achref\")"
   ]
  },
  {
   "cell_type": "markdown",
   "id": "ee2e586d",
   "metadata": {},
   "source": [
    "<h3>str.find(element)</h3>"
   ]
  },
  {
   "cell_type": "code",
   "execution_count": 52,
   "id": "3410e2da",
   "metadata": {
    "scrolled": false
   },
   "outputs": [
    {
     "data": {
      "text/plain": [
       "2"
      ]
     },
     "execution_count": 52,
     "metadata": {},
     "output_type": "execute_result"
    }
   ],
   "source": [
    "\"hello  madafakazzzzz\".find(\"l\")"
   ]
  },
  {
   "cell_type": "markdown",
   "id": "90eeec43",
   "metadata": {},
   "source": [
    "<h3>str.split(element)</h3>"
   ]
  },
  {
   "cell_type": "code",
   "execution_count": 23,
   "id": "23bd816d",
   "metadata": {
    "scrolled": false
   },
   "outputs": [
    {
     "data": {
      "text/plain": [
       "['hello  m', 'd', 'f', 'k', '']"
      ]
     },
     "execution_count": 23,
     "metadata": {},
     "output_type": "execute_result"
    }
   ],
   "source": [
    "\"hello  madafaka\".split(\"a\")"
   ]
  },
  {
   "cell_type": "markdown",
   "id": "aa2f086e",
   "metadata": {},
   "source": [
    "<h3>str.replace(what,with)</h3>"
   ]
  },
  {
   "cell_type": "code",
   "execution_count": 28,
   "id": "6c02bc40",
   "metadata": {
    "scrolled": true
   },
   "outputs": [
    {
     "data": {
      "text/plain": [
       "'hello  sweetheart sweetheart'"
      ]
     },
     "execution_count": 28,
     "metadata": {},
     "output_type": "execute_result"
    }
   ],
   "source": [
    "\"hello  madafaka madafaka\".replace(\"madafaka\",\"sweetheart\")"
   ]
  },
  {
   "cell_type": "markdown",
   "id": "7fa0b52c",
   "metadata": {},
   "source": [
    "<h3>str.strip()</h3>"
   ]
  },
  {
   "cell_type": "code",
   "execution_count": 17,
   "id": "ca85d275",
   "metadata": {
    "scrolled": true
   },
   "outputs": [
    {
     "data": {
      "text/plain": [
       "'hello  madafaka'"
      ]
     },
     "execution_count": 17,
     "metadata": {},
     "output_type": "execute_result"
    }
   ],
   "source": [
    "\" hello  madafaka   \".strip()"
   ]
  },
  {
   "cell_type": "markdown",
   "id": "49d5de61",
   "metadata": {},
   "source": [
    "<h3>sorted(str or list)</h3>"
   ]
  },
  {
   "cell_type": "code",
   "execution_count": 16,
   "id": "82f3e6ba",
   "metadata": {
    "scrolled": true
   },
   "outputs": [
    {
     "data": {
      "text/plain": [
       "[' ', ' ', 'a', 'a', 'a', 'a', 'd', 'e', 'f', 'h', 'k', 'l', 'l', 'm', 'o']"
      ]
     },
     "execution_count": 16,
     "metadata": {},
     "output_type": "execute_result"
    }
   ],
   "source": [
    "sorted(\"hello  madafaka\")"
   ]
  },
  {
   "cell_type": "code",
   "execution_count": 8,
   "id": "7854304d",
   "metadata": {
    "scrolled": false
   },
   "outputs": [
    {
     "data": {
      "text/plain": [
       "['abd el wadoud', 'achref', 'anouar', 'iheb', 'ines']"
      ]
     },
     "execution_count": 8,
     "metadata": {},
     "output_type": "execute_result"
    }
   ],
   "source": [
    "sorted([\"iheb\",\"achref\",\"anouar\",\"ines\",\"abd el wadoud\"])"
   ]
  },
  {
   "cell_type": "markdown",
   "id": "1458eb48",
   "metadata": {},
   "source": [
    "<h3>link_str.join(list)</h3>"
   ]
  },
  {
   "cell_type": "code",
   "execution_count": 18,
   "id": "d0f7168f",
   "metadata": {
    "scrolled": true
   },
   "outputs": [
    {
     "data": {
      "text/plain": [
       "'iheb et achref et anouar et ines et abd el wadoud et achref'"
      ]
     },
     "execution_count": 18,
     "metadata": {},
     "output_type": "execute_result"
    }
   ],
   "source": [
    "\" et \".join([\"iheb\",\"achref\",\"anouar\",\"ines\",\"abd el wadoud\",\"achref\"])"
   ]
  },
  {
   "cell_type": "markdown",
   "id": "d10925d4",
   "metadata": {},
   "source": [
    "<h3>sum(numeric_list)</h3>"
   ]
  },
  {
   "cell_type": "code",
   "execution_count": 36,
   "id": "bdf9becb",
   "metadata": {
    "scrolled": false
   },
   "outputs": [
    {
     "data": {
      "text/plain": [
       "69"
      ]
     },
     "execution_count": 36,
     "metadata": {},
     "output_type": "execute_result"
    }
   ],
   "source": [
    "sum([14,-27,25,23,15,19])"
   ]
  },
  {
   "cell_type": "markdown",
   "id": "3478b544",
   "metadata": {},
   "source": [
    "<h3>max(list)</h3>"
   ]
  },
  {
   "cell_type": "code",
   "execution_count": 38,
   "id": "487363eb",
   "metadata": {
    "scrolled": false
   },
   "outputs": [
    {
     "data": {
      "text/plain": [
       "'z'"
      ]
     },
     "execution_count": 38,
     "metadata": {},
     "output_type": "execute_result"
    }
   ],
   "source": [
    "max(\"hello  madafakazzzzz\")"
   ]
  },
  {
   "cell_type": "code",
   "execution_count": 39,
   "id": "1d3ea18c",
   "metadata": {
    "scrolled": false
   },
   "outputs": [
    {
     "data": {
      "text/plain": [
       "'ines'"
      ]
     },
     "execution_count": 39,
     "metadata": {},
     "output_type": "execute_result"
    }
   ],
   "source": [
    "max([\"iheb\",\"achref\",\"anouar\",\"ines\",\"abd el wadoud\",\"achref\"])"
   ]
  },
  {
   "cell_type": "code",
   "execution_count": 40,
   "id": "0bf0e101",
   "metadata": {},
   "outputs": [
    {
     "data": {
      "text/plain": [
       "75"
      ]
     },
     "execution_count": 40,
     "metadata": {},
     "output_type": "execute_result"
    }
   ],
   "source": [
    "max([2,59,3,75,61,38,64,28])"
   ]
  },
  {
   "cell_type": "markdown",
   "id": "306bd250",
   "metadata": {},
   "source": [
    "<h3>min(list)</h3>"
   ]
  },
  {
   "cell_type": "code",
   "execution_count": 38,
   "id": "47d9e27f",
   "metadata": {
    "scrolled": false
   },
   "outputs": [
    {
     "data": {
      "text/plain": [
       "'z'"
      ]
     },
     "execution_count": 38,
     "metadata": {},
     "output_type": "execute_result"
    }
   ],
   "source": [
    "min(\"hello  madafakazzzzz\")"
   ]
  },
  {
   "cell_type": "code",
   "execution_count": 39,
   "id": "c9fc0af8",
   "metadata": {
    "scrolled": false
   },
   "outputs": [
    {
     "data": {
      "text/plain": [
       "'ines'"
      ]
     },
     "execution_count": 39,
     "metadata": {},
     "output_type": "execute_result"
    }
   ],
   "source": [
    "min([\"iheb\",\"achref\",\"anouar\",\"ines\",\"abd el wadoud\",\"achref\"])"
   ]
  },
  {
   "cell_type": "code",
   "execution_count": 41,
   "id": "012c3e00",
   "metadata": {
    "scrolled": true
   },
   "outputs": [
    {
     "data": {
      "text/plain": [
       "2"
      ]
     },
     "execution_count": 41,
     "metadata": {},
     "output_type": "execute_result"
    }
   ],
   "source": [
    "min([2,59,3,75,61,38,64,28])"
   ]
  },
  {
   "cell_type": "markdown",
   "id": "93a9adc4",
   "metadata": {},
   "source": [
    "<h3>list.reverse()</h3>"
   ]
  },
  {
   "cell_type": "code",
   "execution_count": 51,
   "id": "f7322cd9",
   "metadata": {
    "scrolled": true
   },
   "outputs": [
    {
     "name": "stdout",
     "output_type": "stream",
     "text": [
      "[28, 64, 38, 61, 75, 3, 59, 2]\n"
     ]
    }
   ],
   "source": [
    "a=[2,59,3,75,61,38,64,28]\n",
    "a.reverse()\n",
    "print(a)"
   ]
  },
  {
   "cell_type": "markdown",
   "id": "061d3a13",
   "metadata": {},
   "source": [
    "<h3>list.pop(indice)</h3>"
   ]
  },
  {
   "cell_type": "code",
   "execution_count": 2,
   "id": "dc30dade",
   "metadata": {
    "scrolled": true
   },
   "outputs": [
    {
     "name": "stdout",
     "output_type": "stream",
     "text": [
      "[2, 3, 75, 61, 38, 64, 28]\n"
     ]
    }
   ],
   "source": [
    "a=[2,59,3,75,61,38,64,28]\n",
    "a.pop(1) #59\n",
    "print(a)"
   ]
  },
  {
   "cell_type": "markdown",
   "id": "491003ce",
   "metadata": {},
   "source": [
    "<h3>list.remove(element)</h3>"
   ]
  },
  {
   "cell_type": "code",
   "execution_count": 6,
   "id": "3379f1ce",
   "metadata": {
    "scrolled": true
   },
   "outputs": [
    {
     "name": "stdout",
     "output_type": "stream",
     "text": [
      "[59, 3, 75, 2, 61, 38, 64, 28]\n"
     ]
    }
   ],
   "source": [
    "a=[2,59,3,75,2,61,38,64,28]\n",
    "a.remove(2) #le premier seulement\n",
    "print(a)"
   ]
  },
  {
   "cell_type": "markdown",
   "id": "5a86fa5f",
   "metadata": {},
   "source": [
    "<h3>list.insert(indice,element)</h3>"
   ]
  },
  {
   "cell_type": "code",
   "execution_count": 8,
   "id": "0513e689",
   "metadata": {
    "scrolled": false
   },
   "outputs": [
    {
     "name": "stdout",
     "output_type": "stream",
     "text": [
      "[2, 59, 1.61803398875, 3, 75, 2, 61, 38, 64, 28]\n"
     ]
    }
   ],
   "source": [
    "a=[2,59,3,75,2,61,38,64,28]\n",
    "a.insert(2,1.61803398875)\n",
    "print(a)"
   ]
  }
 ],
 "metadata": {
  "kernelspec": {
   "display_name": "Python 3",
   "language": "python",
   "name": "python3"
  },
  "language_info": {
   "codemirror_mode": {
    "name": "ipython",
    "version": 3
   },
   "file_extension": ".py",
   "mimetype": "text/x-python",
   "name": "python",
   "nbconvert_exporter": "python",
   "pygments_lexer": "ipython3",
   "version": "3.9.5"
  }
 },
 "nbformat": 4,
 "nbformat_minor": 5
}
