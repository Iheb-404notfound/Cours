{
 "cells": [
  {
   "cell_type": "markdown",
   "id": "606cb218",
   "metadata": {},
   "source": [
    "<h5>Exemple"
   ]
  },
  {
   "cell_type": "code",
   "execution_count": 1,
   "id": "7b934c38",
   "metadata": {},
   "outputs": [],
   "source": [
    "t=[5,2,8,3,4,6,9,7]\n",
    "n=len(t)"
   ]
  },
  {
   "cell_type": "markdown",
   "id": "293b442f",
   "metadata": {},
   "source": [
    "<h3>Tri par <span style=\"color: teal\">Selection</span></h3>"
   ]
  },
  {
   "cell_type": "code",
   "execution_count": 12,
   "id": "28183d7d",
   "metadata": {
    "scrolled": true
   },
   "outputs": [
    {
     "name": "stdout",
     "output_type": "stream",
     "text": [
      "[2, 3, 4, 5, 6, 7, 8, 9]\n"
     ]
    }
   ],
   "source": [
    "for c in range(n):\n",
    "    Min=c\n",
    "    for m in range(c,n):\n",
    "        if(t[Min]>t[m]):\n",
    "            Min=m\n",
    "    k=t[c]\n",
    "    t[c]=t[Min]\n",
    "    t[Min]=k\n",
    "print(t)"
   ]
  },
  {
   "cell_type": "markdown",
   "id": "3ac67c3b",
   "metadata": {},
   "source": [
    "<h3>Tri <span style=\"color: teal\">Bulle</span></h3>"
   ]
  },
  {
   "cell_type": "code",
   "execution_count": 15,
   "id": "06cd2bc8",
   "metadata": {
    "scrolled": true
   },
   "outputs": [
    {
     "name": "stdout",
     "output_type": "stream",
     "text": [
      "[2, 3, 4, 5, 6, 7, 8, 9]\n"
     ]
    }
   ],
   "source": [
    "trié=False\n",
    "while not trié:\n",
    "    trié=True\n",
    "    for c in range(n-1):\n",
    "        if(t[c]>t[c+1]):\n",
    "            trié=False\n",
    "            k=t[c]\n",
    "            t[c]=t[c+1]\n",
    "            t[c+1]=k\n",
    "print(t)"
   ]
  },
  {
   "cell_type": "markdown",
   "id": "b487a454",
   "metadata": {},
   "source": [
    "<h3>Tri par <span style=\"color: teal\">INSERTION</span></h3>"
   ]
  },
  {
   "cell_type": "code",
   "execution_count": 6,
   "id": "d43501aa",
   "metadata": {
    "scrolled": true
   },
   "outputs": [
    {
     "name": "stdout",
     "output_type": "stream",
     "text": [
      "[2, 3, 4, 5, 6, 7, 8, 9]\n"
     ]
    }
   ],
   "source": [
    "for c in range(1,n):\n",
    "    p = t[c]\n",
    "    i = c\n",
    "    while (i>0) and (t[i-1] > p) :\n",
    "        t[i]=t[i-1]\n",
    "        i = i-1\n",
    "    t[i] = p\n",
    "print(t)"
   ]
  },
  {
   "cell_type": "markdown",
   "id": "a5066c63",
   "metadata": {},
   "source": [
    "<h3>Tri <span style=\"color: teal\">Shell</span></h3>"
   ]
  },
  {
   "cell_type": "code",
   "execution_count": 5,
   "id": "52913845",
   "metadata": {},
   "outputs": [
    {
     "name": "stdout",
     "output_type": "stream",
     "text": [
      "[2, 3, 4, 5, 6, 7, 8, 9]\n"
     ]
    }
   ],
   "source": [
    "h = 1\n",
    "while (h < n):\n",
    "    h = 3*h+1\n",
    "while h > 1 :\n",
    "    h = h // 3\n",
    "    for c in range(h,n):\n",
    "        p=t[c]\n",
    "        i=c\n",
    "        while i-h >=0 and t[i-h]>p:\n",
    "            t[i]=t[i-h]\n",
    "            i = i-h\n",
    "        t[i] = p\n",
    "print(t)"
   ]
  }
 ],
 "metadata": {
  "kernelspec": {
   "display_name": "Python 3 (ipykernel)",
   "language": "python",
   "name": "python3"
  },
  "language_info": {
   "codemirror_mode": {
    "name": "ipython",
    "version": 3
   },
   "file_extension": ".py",
   "mimetype": "text/x-python",
   "name": "python",
   "nbconvert_exporter": "python",
   "pygments_lexer": "ipython3",
   "version": "3.10.0"
  }
 },
 "nbformat": 4,
 "nbformat_minor": 5
}
