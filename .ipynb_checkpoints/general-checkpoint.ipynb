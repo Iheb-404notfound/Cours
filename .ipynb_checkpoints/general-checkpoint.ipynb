{
 "cells": [
  {
   "cell_type": "markdown",
   "id": "46fb71f1",
   "metadata": {},
   "source": [
    "<h2>Propriétés des listes</h2>"
   ]
  },
  {
   "cell_type": "markdown",
   "id": "8d990906",
   "metadata": {},
   "source": [
    "<h3>list[start:end]</h3> (end-1)"
   ]
  },
  {
   "cell_type": "code",
   "execution_count": 1,
   "id": "7ce7ed7a",
   "metadata": {
    "scrolled": false
   },
   "outputs": [
    {
     "data": {
      "text/plain": [
       "'rem'"
      ]
     },
     "execution_count": 1,
     "metadata": {},
     "output_type": "execute_result"
    }
   ],
   "source": [
    "\"Lorem ipsum dolor sit amet consectetur adipisicing elit\"[2:5]"
   ]
  },
  {
   "cell_type": "markdown",
   "id": "bcdde517",
   "metadata": {},
   "source": [
    "<h3>list[start:end:step]</h3> (end-1)"
   ]
  },
  {
   "cell_type": "code",
   "execution_count": 2,
   "id": "1c9e0c53",
   "metadata": {
    "scrolled": false
   },
   "outputs": [
    {
     "data": {
      "text/plain": [
       "'Lsrecdn'"
      ]
     },
     "execution_count": 2,
     "metadata": {},
     "output_type": "execute_result"
    }
   ],
   "source": [
    "\"Lorem ipsum dolor sit amet consectetur adipisicing elit\"[::8]"
   ]
  },
  {
   "cell_type": "markdown",
   "id": "8219feb5",
   "metadata": {},
   "source": [
    "<h3>str.lower()</h3>"
   ]
  },
  {
   "cell_type": "code",
   "execution_count": 4,
   "id": "308ac070",
   "metadata": {
    "scrolled": false
   },
   "outputs": [
    {
     "data": {
      "text/plain": [
       "'lorem ipsum dolor sit amet consectetur adipisicing elit'"
      ]
     },
     "execution_count": 4,
     "metadata": {},
     "output_type": "execute_result"
    }
   ],
   "source": [
    "\"LorEm ipsum dolOr SIT amet cONsectetur adipisicing elit\".lower()"
   ]
  },
  {
   "cell_type": "markdown",
   "id": "ca39fc57",
   "metadata": {},
   "source": [
    "<h3>str.upper()</h3>"
   ]
  },
  {
   "cell_type": "code",
   "execution_count": 5,
   "id": "d9d50af3",
   "metadata": {
    "scrolled": true
   },
   "outputs": [
    {
     "data": {
      "text/plain": [
       "'LOREM IPSUM DOLOR SIT AMET CONSECTETUR ADIPISICING ELIT'"
      ]
     },
     "execution_count": 5,
     "metadata": {},
     "output_type": "execute_result"
    }
   ],
   "source": [
    "\"Lorem ipsum dolor sit amet consectetur adipisicing elit\".upper()"
   ]
  },
  {
   "cell_type": "markdown",
   "id": "dd557ad7",
   "metadata": {},
   "source": [
    "<h3>str.capitalize()</h3>"
   ]
  },
  {
   "cell_type": "code",
   "execution_count": 6,
   "id": "d0903873",
   "metadata": {
    "scrolled": true
   },
   "outputs": [
    {
     "data": {
      "text/plain": [
       "'Lorem ipsum dolor sit amet consectetur adipisicing elit'"
      ]
     },
     "execution_count": 6,
     "metadata": {},
     "output_type": "execute_result"
    }
   ],
   "source": [
    "\"lorem ipsum dolor sit amet consectetur adipisicing elit\".capitalize()"
   ]
  },
  {
   "cell_type": "markdown",
   "id": "087aae64",
   "metadata": {},
   "source": [
    "<h3>list.count(element)</h3>"
   ]
  },
  {
   "cell_type": "code",
   "execution_count": 7,
   "id": "901f50b1",
   "metadata": {
    "scrolled": false
   },
   "outputs": [
    {
     "data": {
      "text/plain": [
       "2"
      ]
     },
     "execution_count": 7,
     "metadata": {},
     "output_type": "execute_result"
    }
   ],
   "source": [
    "\"Lorem ipsum dolor sit amet consectetur adipisicing elit\".count(\"a\")"
   ]
  },
  {
   "cell_type": "code",
   "execution_count": 8,
   "id": "19260a23",
   "metadata": {
    "scrolled": false
   },
   "outputs": [
    {
     "data": {
      "text/plain": [
       "3"
      ]
     },
     "execution_count": 8,
     "metadata": {},
     "output_type": "execute_result"
    }
   ],
   "source": [
    "[\"Lorem\",\"ipsum\",\"dolor\",\"ipsum\",\"ipsum\",\"sit\"].count(\"ipsum\")"
   ]
  },
  {
   "cell_type": "markdown",
   "id": "ee2e586d",
   "metadata": {},
   "source": [
    "<h3>str.find(element)</h3>"
   ]
  },
  {
   "cell_type": "code",
   "execution_count": 9,
   "id": "3410e2da",
   "metadata": {
    "scrolled": false
   },
   "outputs": [
    {
     "data": {
      "text/plain": [
       "14"
      ]
     },
     "execution_count": 9,
     "metadata": {},
     "output_type": "execute_result"
    }
   ],
   "source": [
    "\"Lorem ipsum dolor sit amet consectetur adipisicing elit\".find(\"l\")"
   ]
  },
  {
   "cell_type": "markdown",
   "id": "90eeec43",
   "metadata": {},
   "source": [
    "<h3>str.split(element)</h3>"
   ]
  },
  {
   "cell_type": "code",
   "execution_count": 12,
   "id": "23bd816d",
   "metadata": {
    "scrolled": false
   },
   "outputs": [
    {
     "data": {
      "text/plain": [
       "['L', 'rem ipsum d', 'l', 'r sit amet c', 'nsectetur adipisicing elit']"
      ]
     },
     "execution_count": 12,
     "metadata": {},
     "output_type": "execute_result"
    }
   ],
   "source": [
    "\"Lorem ipsum dolor sit amet consectetur adipisicing elit\".split(\"o\")"
   ]
  },
  {
   "cell_type": "markdown",
   "id": "aa2f086e",
   "metadata": {},
   "source": [
    "<h3>str.replace(what,with)</h3>"
   ]
  },
  {
   "cell_type": "code",
   "execution_count": 15,
   "id": "6c02bc40",
   "metadata": {
    "scrolled": true
   },
   "outputs": [
    {
     "data": {
      "text/plain": [
       "'Lorem ip$um dolor $it amet con$ectetur adipi$icing elit'"
      ]
     },
     "execution_count": 15,
     "metadata": {},
     "output_type": "execute_result"
    }
   ],
   "source": [
    "\"Lorem ipsum dolor sit amet consectetur adipisicing elit\".replace(\"s\",\"$\")"
   ]
  },
  {
   "cell_type": "markdown",
   "id": "7fa0b52c",
   "metadata": {},
   "source": [
    "<h3>str.strip()</h3>"
   ]
  },
  {
   "cell_type": "code",
   "execution_count": 16,
   "id": "ca85d275",
   "metadata": {
    "scrolled": true
   },
   "outputs": [
    {
     "data": {
      "text/plain": [
       "'Lorem ipsum dolor sit amet consectetur adipisicing elit'"
      ]
     },
     "execution_count": 16,
     "metadata": {},
     "output_type": "execute_result"
    }
   ],
   "source": [
    "\" Lorem ipsum dolor sit amet consectetur adipisicing elit   \".strip()"
   ]
  },
  {
   "cell_type": "markdown",
   "id": "49d5de61",
   "metadata": {},
   "source": [
    "<h3>sorted(str or list)</h3>"
   ]
  },
  {
   "cell_type": "code",
   "execution_count": 19,
   "id": "82f3e6ba",
   "metadata": {
    "scrolled": true
   },
   "outputs": [
    {
     "data": {
      "text/plain": [
       "[' ', 'L', 'e', 'e', 'i', 'l', 'm', 'o', 'r', 't']"
      ]
     },
     "execution_count": 19,
     "metadata": {},
     "output_type": "execute_result"
    }
   ],
   "source": [
    "sorted(\"Lorem elit\")"
   ]
  },
  {
   "cell_type": "code",
   "execution_count": 20,
   "id": "7854304d",
   "metadata": {
    "scrolled": false
   },
   "outputs": [
    {
     "data": {
      "text/plain": [
       "['Lorem', 'dolor', 'ipsum', 'ipsum', 'ipsum', 'sit']"
      ]
     },
     "execution_count": 20,
     "metadata": {},
     "output_type": "execute_result"
    }
   ],
   "source": [
    "sorted([\"Lorem\",\"ipsum\",\"dolor\",\"ipsum\",\"ipsum\",\"sit\"])"
   ]
  },
  {
   "cell_type": "markdown",
   "id": "1458eb48",
   "metadata": {},
   "source": [
    "<h3>link_str.join(list)</h3>"
   ]
  },
  {
   "cell_type": "code",
   "execution_count": 21,
   "id": "d0f7168f",
   "metadata": {
    "scrolled": true
   },
   "outputs": [
    {
     "data": {
      "text/plain": [
       "'Lorem et ipsum et dolor et ipsum et ipsum et sit'"
      ]
     },
     "execution_count": 21,
     "metadata": {},
     "output_type": "execute_result"
    }
   ],
   "source": [
    "\" et \".join([\"Lorem\",\"ipsum\",\"dolor\",\"ipsum\",\"ipsum\",\"sit\"])"
   ]
  },
  {
   "cell_type": "markdown",
   "id": "d10925d4",
   "metadata": {},
   "source": [
    "<h3>sum(numeric_list)</h3>"
   ]
  },
  {
   "cell_type": "code",
   "execution_count": 36,
   "id": "bdf9becb",
   "metadata": {
    "scrolled": false
   },
   "outputs": [
    {
     "data": {
      "text/plain": [
       "69"
      ]
     },
     "execution_count": 36,
     "metadata": {},
     "output_type": "execute_result"
    }
   ],
   "source": [
    "sum([14,-27,25,23,15,19])"
   ]
  },
  {
   "cell_type": "markdown",
   "id": "3478b544",
   "metadata": {},
   "source": [
    "<h3>max(list)</h3>"
   ]
  },
  {
   "cell_type": "code",
   "execution_count": 22,
   "id": "487363eb",
   "metadata": {
    "scrolled": false
   },
   "outputs": [
    {
     "data": {
      "text/plain": [
       "'u'"
      ]
     },
     "execution_count": 22,
     "metadata": {},
     "output_type": "execute_result"
    }
   ],
   "source": [
    "max(\"Lorem ipsum dolor sit amet consectetur adipisicing elit\")"
   ]
  },
  {
   "cell_type": "code",
   "execution_count": 23,
   "id": "1d3ea18c",
   "metadata": {
    "scrolled": false
   },
   "outputs": [
    {
     "data": {
      "text/plain": [
       "'sit'"
      ]
     },
     "execution_count": 23,
     "metadata": {},
     "output_type": "execute_result"
    }
   ],
   "source": [
    "max([\"Lorem\",\"ipsum\",\"dolor\",\"ipsum\",\"ipsum\",\"sit\"])"
   ]
  },
  {
   "cell_type": "code",
   "execution_count": 40,
   "id": "0bf0e101",
   "metadata": {},
   "outputs": [
    {
     "data": {
      "text/plain": [
       "75"
      ]
     },
     "execution_count": 40,
     "metadata": {},
     "output_type": "execute_result"
    }
   ],
   "source": [
    "max([2,59,3,75,61,38,64,28])"
   ]
  },
  {
   "cell_type": "markdown",
   "id": "306bd250",
   "metadata": {},
   "source": [
    "<h3>min(list)</h3>"
   ]
  },
  {
   "cell_type": "code",
   "execution_count": 24,
   "id": "47d9e27f",
   "metadata": {
    "scrolled": false
   },
   "outputs": [
    {
     "data": {
      "text/plain": [
       "' '"
      ]
     },
     "execution_count": 24,
     "metadata": {},
     "output_type": "execute_result"
    }
   ],
   "source": [
    "min(\"Lorem ipsum dolor sit amet consectetur adipisicing elit\")"
   ]
  },
  {
   "cell_type": "code",
   "execution_count": 25,
   "id": "c9fc0af8",
   "metadata": {
    "scrolled": false
   },
   "outputs": [
    {
     "data": {
      "text/plain": [
       "'Lorem'"
      ]
     },
     "execution_count": 25,
     "metadata": {},
     "output_type": "execute_result"
    }
   ],
   "source": [
    "min([\"Lorem\",\"ipsum\",\"dolor\",\"ipsum\",\"ipsum\",\"sit\"])"
   ]
  },
  {
   "cell_type": "code",
   "execution_count": 41,
   "id": "012c3e00",
   "metadata": {
    "scrolled": true
   },
   "outputs": [
    {
     "data": {
      "text/plain": [
       "2"
      ]
     },
     "execution_count": 41,
     "metadata": {},
     "output_type": "execute_result"
    }
   ],
   "source": [
    "min([2,59,3,75,61,38,64,28])"
   ]
  },
  {
   "cell_type": "markdown",
   "id": "93a9adc4",
   "metadata": {},
   "source": [
    "<h3>list.reverse()</h3>"
   ]
  },
  {
   "cell_type": "code",
   "execution_count": 51,
   "id": "f7322cd9",
   "metadata": {
    "scrolled": true
   },
   "outputs": [
    {
     "name": "stdout",
     "output_type": "stream",
     "text": [
      "[28, 64, 38, 61, 75, 3, 59, 2]\n"
     ]
    }
   ],
   "source": [
    "a=[2,59,3,75,61,38,64,28]\n",
    "a.reverse()\n",
    "print(a)"
   ]
  },
  {
   "cell_type": "markdown",
   "id": "061d3a13",
   "metadata": {},
   "source": [
    "<h3>list.pop(indice)</h3>"
   ]
  },
  {
   "cell_type": "code",
   "execution_count": 2,
   "id": "dc30dade",
   "metadata": {
    "scrolled": true
   },
   "outputs": [
    {
     "name": "stdout",
     "output_type": "stream",
     "text": [
      "[2, 3, 75, 61, 38, 64, 28]\n"
     ]
    }
   ],
   "source": [
    "a=[2,59,3,75,61,38,64,28]\n",
    "a.pop(1) #59\n",
    "print(a)"
   ]
  },
  {
   "cell_type": "markdown",
   "id": "491003ce",
   "metadata": {},
   "source": [
    "<h3>list.remove(element)</h3>"
   ]
  },
  {
   "cell_type": "code",
   "execution_count": 6,
   "id": "3379f1ce",
   "metadata": {
    "scrolled": true
   },
   "outputs": [
    {
     "name": "stdout",
     "output_type": "stream",
     "text": [
      "[59, 3, 75, 2, 61, 38, 64, 28]\n"
     ]
    }
   ],
   "source": [
    "a=[2,59,3,75,2,61,38,64,28]\n",
    "a.remove(2) #le premier seulement\n",
    "print(a)"
   ]
  },
  {
   "cell_type": "markdown",
   "id": "5a86fa5f",
   "metadata": {},
   "source": [
    "<h3>list.insert(indice,element)</h3>"
   ]
  },
  {
   "cell_type": "code",
   "execution_count": 8,
   "id": "0513e689",
   "metadata": {
    "scrolled": false
   },
   "outputs": [
    {
     "name": "stdout",
     "output_type": "stream",
     "text": [
      "[2, 59, 1.61803398875, 3, 75, 2, 61, 38, 64, 28]\n"
     ]
    }
   ],
   "source": [
    "a=[2,59,3,75,2,61,38,64,28]\n",
    "a.insert(2,1.61803398875)\n",
    "print(a)"
   ]
  },
  {
   "cell_type": "markdown",
   "id": "55347662",
   "metadata": {},
   "source": [
    "<h3>filter(function,iterable)</h3>"
   ]
  },
  {
   "cell_type": "code",
   "execution_count": 1,
   "id": "83fc8f96",
   "metadata": {
    "scrolled": true
   },
   "outputs": [
    {
     "name": "stdout",
     "output_type": "stream",
     "text": [
      "[2, 2, 38, 64, 28]\n"
     ]
    }
   ],
   "source": [
    "a=[2,59,3,75,2,61,38,64,28]\n",
    "def est_pair(n):\n",
    "    return n%2==0\n",
    "paires = list(filter(est_pair,a))\n",
    "print(paires)"
   ]
  },
  {
   "cell_type": "markdown",
   "id": "8920a138",
   "metadata": {},
   "source": [
    "<h3>map(function,iterable)</h3>"
   ]
  },
  {
   "cell_type": "code",
   "execution_count": 4,
   "id": "1a4c42d0",
   "metadata": {
    "scrolled": true
   },
   "outputs": [
    {
     "name": "stdout",
     "output_type": "stream",
     "text": [
      "[4, 118, 6, 150, 4, 122, 76, 128, 56]\n"
     ]
    }
   ],
   "source": [
    "a=[2,59,3,75,2,61,38,64,28]\n",
    "def double(n):\n",
    "    return n*2\n",
    "doubles = list(map(double,a))\n",
    "print(doubles)"
   ]
  },
  {
   "cell_type": "markdown",
   "id": "9b6919d5",
   "metadata": {},
   "source": [
    "<center><h1>functools</h1></center>"
   ]
  },
  {
   "cell_type": "code",
   "execution_count": 5,
   "id": "33a9f4f5",
   "metadata": {},
   "outputs": [],
   "source": [
    "from functools import *"
   ]
  },
  {
   "cell_type": "markdown",
   "id": "7080b101",
   "metadata": {},
   "source": [
    "<h3>reduce(function,iterable)</h3>"
   ]
  },
  {
   "cell_type": "code",
   "execution_count": 7,
   "id": "7e8b22ba",
   "metadata": {
    "scrolled": false
   },
   "outputs": [
    {
     "name": "stdout",
     "output_type": "stream",
     "text": [
      "332\n"
     ]
    }
   ],
   "source": [
    "a=[2,59,3,75,2,61,38,64,28]\n",
    "def add(p,n):\n",
    "    return n+p\n",
    "somme = reduce(add,a)\n",
    "print(somme)"
   ]
  },
  {
   "cell_type": "code",
   "execution_count": 10,
   "id": "970e98c4",
   "metadata": {
    "scrolled": true
   },
   "outputs": [
    {
     "name": "stdout",
     "output_type": "stream",
     "text": [
      "75\n"
     ]
    }
   ],
   "source": [
    "a=[2,59,3,75,2,61,38,64,28]\n",
    "from functools import reduce\n",
    "def Max(p,n):\n",
    "    return n if n>p else p\n",
    "MAX = reduce(Max,a)\n",
    "print(MAX)"
   ]
  },
  {
   "cell_type": "markdown",
   "id": "d690e283",
   "metadata": {},
   "source": [
    "<h3>@cache</h3>"
   ]
  },
  {
   "cell_type": "markdown",
   "id": "0e31710d",
   "metadata": {},
   "source": [
    "Ce décorateur enregistre les valeurs d'une fonction pour moins compiler, c'est utile pour la rapidité"
   ]
  },
  {
   "cell_type": "code",
   "execution_count": 13,
   "id": "66cfc94d",
   "metadata": {
    "scrolled": true
   },
   "outputs": [
    {
     "name": "stdout",
     "output_type": "stream",
     "text": [
      "0: 0\t|1: 1\t|2: 1\t|3: 2\t|4: 3\t|5: 5\t|6: 8\t|7: 13\t|8: 21\n"
     ]
    }
   ],
   "source": [
    "a=[2,59,3,75,2,61,38,64,28]\n",
    "@cache\n",
    "def Fibonacci(n):\n",
    "    return Fibonacci(n-1)+Fibonacci(n-2) if n>1 else n\n",
    "\n",
    "print(\"\\t|\".join(list(str(n) + f\": {Fibonacci(n)}\"for n in range(9))))"
   ]
  },
  {
   "cell_type": "markdown",
   "id": "a8d440ac",
   "metadata": {},
   "source": [
    "<center><h1>OOP</h1></center>"
   ]
  },
  {
   "cell_type": "code",
   "execution_count": 14,
   "id": "cf5af7b5",
   "metadata": {},
   "outputs": [],
   "source": [
    "class Creature:\n",
    "    pass"
   ]
  },
  {
   "cell_type": "code",
   "execution_count": 16,
   "id": "7f0fc80b",
   "metadata": {},
   "outputs": [
    {
     "name": "stdout",
     "output_type": "stream",
     "text": [
      "2000000\n"
     ]
    }
   ],
   "source": [
    "class Creature:\n",
    "    age=2_000_000\n",
    "\n",
    "human=Creature()\n",
    "print(human.age)"
   ]
  },
  {
   "cell_type": "code",
   "execution_count": 18,
   "id": "c1b8aed5",
   "metadata": {
    "scrolled": false
   },
   "outputs": [
    {
     "name": "stdout",
     "output_type": "stream",
     "text": [
      "2000000\n"
     ]
    }
   ],
   "source": [
    "class Creature:\n",
    "    age=0\n",
    "    def print_age(self):\n",
    "        print(self.age)\n",
    "\n",
    "human = Creature()\n",
    "human.age=2_000_000\n",
    "human.print_age()"
   ]
  },
  {
   "cell_type": "markdown",
   "id": "9ec6814a",
   "metadata": {},
   "source": [
    "<h3>__init__</h3>"
   ]
  },
  {
   "cell_type": "code",
   "execution_count": 22,
   "id": "f282a808",
   "metadata": {
    "scrolled": true
   },
   "outputs": [
    {
     "name": "stdout",
     "output_type": "stream",
     "text": [
      "2,000,000\n"
     ]
    }
   ],
   "source": [
    "class Creature:\n",
    "    age = 0\n",
    "    def __init__(self):\n",
    "        self.age=2_000_000\n",
    "        print(f\"{self.age:,}\")\n",
    "\n",
    "human = Creature()"
   ]
  },
  {
   "cell_type": "markdown",
   "id": "c808b461",
   "metadata": {},
   "source": [
    "<h3>Inheritance</h3>"
   ]
  },
  {
   "cell_type": "code",
   "execution_count": 24,
   "id": "fdffe5d8",
   "metadata": {
    "scrolled": true
   },
   "outputs": [
    {
     "name": "stdout",
     "output_type": "stream",
     "text": [
      "Mr Stieve White is 32 years old\n"
     ]
    }
   ],
   "source": [
    "class Creature:\n",
    "    age = 0\n",
    "class Human(Creature):\n",
    "    lastname = \"\"\n",
    "\n",
    "Stieve = Human()\n",
    "Stieve.age=32\n",
    "Stieve.lastname = \"White\"\n",
    "print(f\"Mr Stieve {Stieve.lastname} is {Stieve.age} years old\")"
   ]
  },
  {
   "cell_type": "code",
   "execution_count": 25,
   "id": "a8d8032e",
   "metadata": {},
   "outputs": [
    {
     "name": "stdout",
     "output_type": "stream",
     "text": [
      "Mr Stieve White is 32 years old\n"
     ]
    }
   ],
   "source": [
    "class Human(Creature):\n",
    "    age = 0\n",
    "\n",
    "Stieve = Human()\n",
    "Stieve.age=32\n",
    "setattr(Stieve,\"lastname\",\"White\")\n",
    "Stieve.lastname = \"White\"\n",
    "print(f\"Mr Stieve {Stieve.lastname} is {Stieve.age} years old\")"
   ]
  },
  {
   "cell_type": "code",
   "execution_count": null,
   "id": "dbb18523",
   "metadata": {},
   "outputs": [],
   "source": []
  }
 ],
 "metadata": {
  "kernelspec": {
   "display_name": "Python 3 (ipykernel)",
   "language": "python",
   "name": "python3"
  },
  "language_info": {
   "codemirror_mode": {
    "name": "ipython",
    "version": 3
   },
   "file_extension": ".py",
   "mimetype": "text/x-python",
   "name": "python",
   "nbconvert_exporter": "python",
   "pygments_lexer": "ipython3",
   "version": "3.10.0"
  }
 },
 "nbformat": 4,
 "nbformat_minor": 5
}
