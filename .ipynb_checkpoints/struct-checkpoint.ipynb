{
 "cells": [
  {
   "cell_type": "markdown",
   "id": "a81b48b5",
   "metadata": {},
   "source": [
    "<table>\n",
    "    <tr><th>T.D.N.T</th></tr>\n",
    "    <tr><td>Type</td></tr>\n",
    "    <tr><td>e: Enregistrement<br>attr1,attr2: type1<br>attr3: type2<br>.<br>.<br>.<td></tr>\n",
    "</table>"
   ]
  },
  {
   "cell_type": "code",
   "execution_count": null,
   "id": "49fe9094",
   "metadata": {},
   "outputs": [],
   "source": []
  }
 ],
 "metadata": {
  "kernelspec": {
   "display_name": "Python 3 (ipykernel)",
   "language": "python",
   "name": "python3"
  },
  "language_info": {
   "codemirror_mode": {
    "name": "ipython",
    "version": 3
   },
   "file_extension": ".py",
   "mimetype": "text/x-python",
   "name": "python",
   "nbconvert_exporter": "python",
   "pygments_lexer": "ipython3",
   "version": "3.10.0"
  }
 },
 "nbformat": 4,
 "nbformat_minor": 5
}
