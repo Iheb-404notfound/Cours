{
 "cells": [
  {
   "cell_type": "markdown",
   "metadata": {},
   "source": [
    "<center><h1 style=\"font-size:50px;\">Algorithme</h1></center>"
   ]
  },
  {
   "cell_type": "markdown",
   "metadata": {},
   "source": [
    "<h2>Ouvrire</h2>"
   ]
  },
  {
   "cell_type": "markdown",
   "metadata": {},
   "source": [
    "<h3>\n",
    "les modes txt: <br>\n",
    "    <span style=\"color:cyan\">w</span> : écriture pointeur=0 (s'il existe il erase)<br>\n",
    "    <span style=\"color:cyan\">r</span>  : lecture  pointeur=0<br>\n",
    "    <span style=\"color:cyan\">a</span>  : ajouter  pointeur=fin<br><br>\n",
    "les modes binaires: <br>\n",
    "    <span style=\"color:red\">rb</span>    : lecture le fichier binaire<br>\n",
    "    <span style=\"color:red\">wb</span>    : écriture sur le fichier binaire<br>\n",
    "    <span style=\"color:red\">ab</span>    : ajouter à la fin du fichier binaire<br>\n",
    "</h3>"
   ]
  },
  {
   "cell_type": "code",
   "execution_count": null,
   "metadata": {},
   "outputs": [],
   "source": [
    "Ouvrire(\"Chemin\\Nom_Physique\",Nom_Logique,\"mode\")"
   ]
  },
  {
   "cell_type": "markdown",
   "metadata": {},
   "source": [
    "<h1>Enregistrer et fermer </h1>"
   ]
  },
  {
   "cell_type": "code",
   "execution_count": null,
   "metadata": {},
   "outputs": [],
   "source": [
    "fermer(Nom_Logique)"
   ]
  },
  {
   "cell_type": "markdown",
   "metadata": {},
   "source": [
    "<h1>Lire <span style=\"color:red;\">txt</span></h1>"
   ]
  },
  {
   "cell_type": "markdown",
   "metadata": {},
   "source": [
    "<h4>Lire tous et le placer dans une <span style=\"color:cyan;\">Chaine</span></h4>"
   ]
  },
  {
   "cell_type": "code",
   "execution_count": null,
   "metadata": {},
   "outputs": [],
   "source": [
    "Lire(Nom_Logique,ch)"
   ]
  },
  {
   "cell_type": "markdown",
   "metadata": {},
   "source": [
    "<h4>Lire une ligne et la placer dans une <span style=\"color:cyan;\">Chaine</span></h4>"
   ]
  },
  {
   "cell_type": "code",
   "execution_count": null,
   "metadata": {},
   "outputs": [],
   "source": [
    "Lire_Ligne(Nom_Logique,ch)"
   ]
  },
  {
   "cell_type": "markdown",
   "metadata": {},
   "source": [
    "<h1>Ecrire <span style=\"color:red;\">txt</span></h1>"
   ]
  },
  {
   "cell_type": "markdown",
   "metadata": {},
   "source": [
    "<h4>Remplir le fichier <span style=\"color:cyan;\">Totalement</span></h4>"
   ]
  },
  {
   "cell_type": "code",
   "execution_count": null,
   "metadata": {},
   "outputs": [],
   "source": [
    "Ecrire(Nom_Logique,ch)"
   ]
  },
  {
   "cell_type": "markdown",
   "metadata": {},
   "source": [
    "<h4>Ecrire <span style=\"color:cyan;\">Une Ligne Aprés Le Continue Actuel</span> le fichier </h4>"
   ]
  },
  {
   "cell_type": "code",
   "execution_count": null,
   "metadata": {},
   "outputs": [],
   "source": [
    "Ecrire_nl(Nom_Logique,ch)"
   ]
  },
  {
   "cell_type": "markdown",
   "metadata": {},
   "source": [
    "<h1>Détecter fin fichier <span style=\"color:red;\">txt</span></h1>"
   ]
  },
  {
   "cell_type": "markdown",
   "metadata": {},
   "source": [
    "<h4><span style=\"color:cyan;\">Booléen</span> qui détecte la fin du fichier</h4>"
   ]
  },
  {
   "cell_type": "code",
   "execution_count": null,
   "metadata": {},
   "outputs": [],
   "source": [
    "Fin_fichier(Nom_Logique)"
   ]
  },
  {
   "cell_type": "markdown",
   "metadata": {},
   "source": [
    "<br><center><h1>Bibliothèque de <span style=\"color:red;\">décryptage</span></h1></center>"
   ]
  },
  {
   "cell_type": "markdown",
   "metadata": {},
   "source": [
    "<h1>Lire <span style=\"color:red;\">structuré</span></h1>"
   ]
  },
  {
   "cell_type": "markdown",
   "metadata": {},
   "source": [
    "<h4>Manipuler un  <span style=\"color:cyan;\">objet</span> simple ou complexe</h4>"
   ]
  },
  {
   "cell_type": "code",
   "execution_count": null,
   "metadata": {},
   "outputs": [],
   "source": [
    "Lire(Nom_Logique,obj)"
   ]
  },
  {
   "cell_type": "markdown",
   "metadata": {},
   "source": [
    "<h1>Ecrire <span style=\"color:red;\">structuré</span></h1>"
   ]
  },
  {
   "cell_type": "markdown",
   "metadata": {},
   "source": [
    "<h4>Traiter un <span style=\"color:cyan;\">objet</span> simple ou complexe dans le fichier</h4>"
   ]
  },
  {
   "cell_type": "code",
   "execution_count": null,
   "metadata": {},
   "outputs": [],
   "source": [
    "Ecrire(Nom_Logique,obj)"
   ]
  },
  {
   "cell_type": "markdown",
   "metadata": {},
   "source": [
    "<h1>Détecter fin fichier <span style=\"color:red;\">structuré</span></h1>"
   ]
  },
  {
   "cell_type": "markdown",
   "metadata": {},
   "source": [
    "<h4><span style=\"color:cyan;\">Booléen</span> qui détecte la fin du fichier</h4>"
   ]
  },
  {
   "cell_type": "code",
   "execution_count": null,
   "metadata": {},
   "outputs": [],
   "source": [
    "Fin_fichier(Nom_Logique)"
   ]
  },
  {
   "cell_type": "markdown",
   "metadata": {},
   "source": [
    "<br><br><br><center><h1 style=\"font-size:50px;\">Python</h1></center>"
   ]
  },
  {
   "cell_type": "markdown",
   "metadata": {},
   "source": [
    "<h2>Ouvrire</h2>"
   ]
  },
  {
   "cell_type": "markdown",
   "metadata": {},
   "source": [
    "<h3>\n",
    "les modes txt (ajoutées): <br>\n",
    "    $\\:\\:\\:$ <span style=\"color:cyan\">x</span>    : creation exclusive (erreur si le fichier existe déja)<br>\n",
    "    $\\:\\:\\:$ <span style=\"color:cyan\">w+</span>   : lecture et écriture (peut tronquer le fichier)<br>\n",
    "    $\\:\\:\\:$ <span style=\"color:cyan\">r+</span>   : lecture et écriture (ne peut pas tronquer le fichier)<br>\n",
    "les modes binaires (ajoutées): <br>\n",
    "    $\\:\\:\\:$ <span style=\"color:red\">rb+</span>    : lecture et écriture du fichier binaire<br>\n",
    "</h3>"
   ]
  },
  {
   "cell_type": "code",
   "execution_count": null,
   "metadata": {},
   "outputs": [],
   "source": [
    "Nom_Logique = open(\"Chemin\\Nom_Physique\",mode)"
   ]
  },
  {
   "cell_type": "markdown",
   "metadata": {},
   "source": [
    "<h1>Enregistrer</h1>"
   ]
  },
  {
   "cell_type": "code",
   "execution_count": null,
   "metadata": {},
   "outputs": [],
   "source": [
    "Nom_Logique.close()"
   ]
  },
  {
   "cell_type": "markdown",
   "metadata": {},
   "source": [
    "<h1>Lire <span style=\"color:red;\">txt</span></h1>"
   ]
  },
  {
   "cell_type": "markdown",
   "metadata": {},
   "source": [
    "<h4>Lire tous et le placer dans une <span style=\"color:cyan;\">Chaine</span></h4>"
   ]
  },
  {
   "cell_type": "code",
   "execution_count": null,
   "metadata": {},
   "outputs": [],
   "source": [
    "ch = Nom_Logique.read()"
   ]
  },
  {
   "cell_type": "markdown",
   "metadata": {},
   "source": [
    "<h4>Lire une ligne et la placer dans une <span style=\"color:cyan;\">Chaine</span></h4>"
   ]
  },
  {
   "cell_type": "code",
   "execution_count": null,
   "metadata": {},
   "outputs": [],
   "source": [
    "ch = Nom_Logique.readline()"
   ]
  },
  {
   "cell_type": "markdown",
   "metadata": {},
   "source": [
    "<h4>Lire tous les lignes et les placer dans une <span style=\"color:cyan;\">Liste</span></h4>"
   ]
  },
  {
   "cell_type": "code",
   "execution_count": null,
   "metadata": {},
   "outputs": [],
   "source": [
    "ch = Nom_Logique.readlines()"
   ]
  },
  {
   "cell_type": "markdown",
   "metadata": {},
   "source": [
    "<h1>Ecrire <span style=\"color:red;\">txt</span></h1>"
   ]
  },
  {
   "cell_type": "markdown",
   "metadata": {},
   "source": [
    "<h4>Ecrire <span style=\"color:cyan;\">une ligne aprés Le continu actuel</span> le fichier </h4>"
   ]
  },
  {
   "cell_type": "code",
   "execution_count": null,
   "metadata": {},
   "outputs": [],
   "source": [
    "Nom_Logique.write(ch)"
   ]
  },
  {
   "cell_type": "markdown",
   "metadata": {},
   "source": [
    "<h4>Ecrire les cases d'une <span style=\"color:cyan;\">liste</span> en tant que lignes dans le fichier </h4>"
   ]
  },
  {
   "cell_type": "code",
   "execution_count": null,
   "metadata": {},
   "outputs": [],
   "source": [
    "Nom_Logique.writelines(l)"
   ]
  },
  {
   "cell_type": "markdown",
   "metadata": {},
   "source": [
    "<h1>Pointer <span style=\"color:red;\">txt</span></h1>"
   ]
  },
  {
   "cell_type": "markdown",
   "metadata": {},
   "source": [
    "<h4>Changer l'<span style=\"color:cyan;\">indice</span>du ligne q'on utilise</h4>"
   ]
  },
  {
   "cell_type": "code",
   "execution_count": null,
   "metadata": {},
   "outputs": [],
   "source": [
    "Nom_Logique.seek(indice)"
   ]
  },
  {
   "cell_type": "markdown",
   "metadata": {},
   "source": [
    "<h1>Détecter fin fichier <span style=\"color:red;\">txt</span></h1>"
   ]
  },
  {
   "cell_type": "markdown",
   "metadata": {},
   "source": [
    "<h4><span style=\"color:cyan;\">Booléen</span> qui détecte la fin du fichier</h4>"
   ]
  },
  {
   "cell_type": "code",
   "execution_count": null,
   "metadata": {},
   "outputs": [],
   "source": [
    "Fin_fichier = lambda f: f.readline()==\"\"\n",
    "Fin_fichier(Nom_Logique)"
   ]
  },
  {
   "cell_type": "markdown",
   "metadata": {},
   "source": [
    "<br><center><h1>Bibliothèque de <span style=\"color:red;\">décryptage</span></h1></center>"
   ]
  },
  {
   "cell_type": "markdown",
   "metadata": {},
   "source": [
    "<h4>Importation du bibliothèque <span style=\"color:cyan;\">pickle</span></h4>"
   ]
  },
  {
   "cell_type": "code",
   "execution_count": 1,
   "metadata": {},
   "outputs": [],
   "source": [
    "import pickle "
   ]
  },
  {
   "cell_type": "markdown",
   "metadata": {},
   "source": [
    "<h1>Lire <span style=\"color:red;\">structuré</span></h1>"
   ]
  },
  {
   "cell_type": "markdown",
   "metadata": {},
   "source": [
    "<h4>Manipuler tous et le placer dans un <span style=\"color:cyan;\">enregistrement</span> simple ou complexe</h4>"
   ]
  },
  {
   "cell_type": "code",
   "execution_count": null,
   "metadata": {},
   "outputs": [],
   "source": [
    "obj = pickle.load(Nom_Logique)"
   ]
  },
  {
   "cell_type": "markdown",
   "metadata": {},
   "source": [
    "<h1>Ecrire <span style=\"color:red;\">structuré</span></h1>"
   ]
  },
  {
   "cell_type": "markdown",
   "metadata": {},
   "source": [
    "<h4>Traiter un <span style=\"color:cyan;\">enregistrement</span> simple ou complexe dans le fichier</h4>"
   ]
  },
  {
   "cell_type": "code",
   "execution_count": null,
   "metadata": {},
   "outputs": [],
   "source": [
    "pickle.dump(obj,Nom_Logique)"
   ]
  }
 ],
 "metadata": {
  "interpreter": {
   "hash": "38740d3277777e2cd7c6c2cc9d8addf5118fdf3f82b1b39231fd12aeac8aee8b"
  },
  "kernelspec": {
   "display_name": "Python 3 (ipykernel)",
   "language": "python",
   "name": "python3"
  },
  "language_info": {
   "codemirror_mode": {
    "name": "ipython",
    "version": 3
   },
   "file_extension": ".py",
   "mimetype": "text/x-python",
   "name": "python",
   "nbconvert_exporter": "python",
   "pygments_lexer": "ipython3",
   "version": "3.10.0"
  }
 },
 "nbformat": 4,
 "nbformat_minor": 2
}
